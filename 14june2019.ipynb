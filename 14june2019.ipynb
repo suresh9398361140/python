{
 "cells": [
  {
   "cell_type": "markdown",
   "metadata": {},
   "source": [
    "### Problem solving and programming in python-day4\n",
    "## date-14june2019\n",
    "### day objectives\n",
    "* python data structures\n",
    " * Lists\n",
    " * Tuples\n",
    " * Dictionaries\n",
    "* Basic problem set on data structures\n",
    "* Advance problem set\n",
    "* Packages and modules in python\n"
   ]
  },
  {
   "cell_type": "markdown",
   "metadata": {},
   "source": [
    "## python data structures\n",
    "lists"
   ]
  },
  {
   "cell_type": "code",
   "execution_count": 53,
   "metadata": {},
   "outputs": [
    {
     "data": {
      "text/plain": [
       "[123, 345, 654, 456, 879, 182]"
      ]
     },
     "execution_count": 53,
     "metadata": {},
     "output_type": "execute_result"
    }
   ],
   "source": [
    "li=[123,897,654]\n",
    "li #access the entire list\n",
    "li[1] #access an element with index in a list\n",
    "li[1:] #access all elements from second element to last element\n",
    "li[::-1]\n",
    "li=li[::-1]\n",
    "li\n",
    "li=li[::-1]\n",
    "li\n",
    "li[::2]# acessing the even index elements\n",
    "li[1::2]# accessing odd index elements\n",
    "\n",
    "# lists can be accessed,manipulated in two different ways\n",
    "  #direct referencing-[index]\n",
    "  #indirect refrencing-through functions\n",
    "li.append(345)#adding an element to end of the list\n",
    "li\n",
    "# adding an element at a particular index\n",
    "li.insert(1,234)# adding an element at a particular index\n",
    "li\n",
    "li.sort() #sort elements in ascending order\n",
    "li\n",
    "li.pop()\n",
    "li# remove the last element in a list\n",
    "li.pop(1)# remove an element at a particular index\n",
    "li\n",
    "li2=[456,879,182]\n",
    "li.extend(li2)#merge list2 into list1\n",
    "li\n",
    "sum(li)#sum of all the elements in the list\n",
    "max(li)# maximum element in a list\n",
    "len(li)# length of the list\n",
    "#average of elements in a list\n",
    "sum(li)/len(li)\n",
    "# average of all alternate elements\n",
    "sum(li[::2])/len(li[::2])\n",
    "# avg of ODD INDEX POSITIONS\n",
    "sum(li[1::2])/len(li[1::2])\n",
    "li\n"
   ]
  },
  {
   "cell_type": "code",
   "execution_count": 40,
   "metadata": {},
   "outputs": [
    {
     "data": {
      "text/plain": [
       "654"
      ]
     },
     "execution_count": 40,
     "metadata": {},
     "output_type": "execute_result"
    }
   ],
   "source": [
    "# function to identify the second largest element in a list\n",
    "#sort the data and select the second last element\n",
    "# sort the data in reverse order, and select the  second \n",
    "#remove the max element and then get the max of the new list\n",
    "def secondlargest(li):\n",
    "    li.sort()\n",
    "    return li[-2]\n",
    "secondlargest(li)\n",
    "    \n",
    "    \n",
    "    \n",
    "    \n",
    "    \n",
    "    \n"
   ]
  },
  {
   "cell_type": "code",
   "execution_count": 42,
   "metadata": {},
   "outputs": [
    {
     "data": {
      "text/plain": [
       "182"
      ]
     },
     "execution_count": 42,
     "metadata": {},
     "output_type": "execute_result"
    }
   ],
   "source": [
    "#function that returns the nth largest\n",
    "def genericlargest(li,n):\n",
    "    li.sort()\n",
    "    return li[-n]\n",
    "genericlargest(li,5)\n"
   ]
  },
  {
   "cell_type": "code",
   "execution_count": 52,
   "metadata": {},
   "outputs": [
    {
     "data": {
      "text/plain": [
       "5"
      ]
     },
     "execution_count": 52,
     "metadata": {},
     "output_type": "execute_result"
    }
   ],
   "source": [
    "# function to search for data in a list\n",
    "def linearsearch(li,key):\n",
    "    for index in range(0,len(li)):\n",
    "        if li[index]==key:\n",
    "            return index\n",
    "        return -1\n",
    "linearsearch(li,234)\n",
    "def linearsearch2(li,key):\n",
    "    for element in li:\n",
    "        if element==key:\n",
    "            return li.index(element)\n",
    "    return -1\n",
    "linearsearch2(li,560)\n",
    "def linearsearch3(li,key):\n",
    "    if key in li:\n",
    "        return li.index(key)\n",
    "    return -1\n",
    "linearsearch3(li,879)\n",
    "    \n",
    "    "
   ]
  },
  {
   "cell_type": "code",
   "execution_count": 57,
   "metadata": {},
   "outputs": [
    {
     "data": {
      "text/plain": [
       "2"
      ]
     },
     "execution_count": 57,
     "metadata": {},
     "output_type": "execute_result"
    }
   ],
   "source": [
    "# function to count the occurances of a character in a string\n",
    "# \"python programming\",m->2\n",
    "def countcharoccurances(s,c):\n",
    "    count=0\n",
    "    for ch in s:\n",
    "        if ch==c:\n",
    "            count+=1\n",
    "    return count\n",
    "def countcharoccurances2(s,c):\n",
    "    return s.count(c)\n",
    "countcharoccurances2(\"python programming\",'o')\n",
    "\n",
    "            "
   ]
  },
  {
   "cell_type": "code",
   "execution_count": null,
   "metadata": {},
   "outputs": [],
   "source": [
    "#function to find the number of occurances\n",
    "# \"abcabcddcba\",\"ab\"->2\n",
    "def countcharoccurances(s,c):\n",
    "    count=0\n",
    "    for ch in s:\n",
    "        "
   ]
  },
  {
   "cell_type": "code",
   "execution_count": null,
   "metadata": {},
   "outputs": [],
   "source": [
    "s=\"1 2 3 4 5 6\"\n",
    "li=s.split()\n",
    "numberlist=[]\n",
    "for i in li:\n",
    "    numberlist.append(int(i))\n",
    "numberlist"
   ]
  },
  {
   "cell_type": "code",
   "execution_count": null,
   "metadata": {},
   "outputs": [],
   "source": []
  }
 ],
 "metadata": {
  "kernelspec": {
   "display_name": "Python 3",
   "language": "python",
   "name": "python3"
  },
  "language_info": {
   "codemirror_mode": {
    "name": "ipython",
    "version": 3
   },
   "file_extension": ".py",
   "mimetype": "text/x-python",
   "name": "python",
   "nbconvert_exporter": "python",
   "pygments_lexer": "ipython3",
   "version": "3.7.3"
  }
 },
 "nbformat": 4,
 "nbformat_minor": 2
}
