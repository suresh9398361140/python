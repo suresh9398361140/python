{
 "cells": [
  {
   "cell_type": "markdown",
   "metadata": {},
   "source": [
    "# problem solving and programming\n",
    "# date 12 june 2019\n",
    "## day objectives\n",
    "string slicing\n",
    "functions in python\n",
    "Basic problems related to conditional statements using functions\n",
    "Iteration\n",
    "python data structures-lists,tuples and disctionaries\n",
    "Operations on data structures\n",
    "applying data structures to solve problems\n"
   ]
  },
  {
   "cell_type": "code",
   "execution_count": null,
   "metadata": {},
   "outputs": [],
   "source": []
  },
  {
   "cell_type": "markdown",
   "metadata": {},
   "source": [
    "### string slicing"
   ]
  },
  {
   "cell_type": "code",
   "execution_count": 7,
   "metadata": {},
   "outputs": [
    {
     "ename": "NameError",
     "evalue": "name 's1' is not defined",
     "output_type": "error",
     "traceback": [
      "\u001b[1;31m---------------------------------------------------------------------------\u001b[0m",
      "\u001b[1;31mNameError\u001b[0m                                 Traceback (most recent call last)",
      "\u001b[1;32m<ipython-input-7-24bdaacfdf0f>\u001b[0m in \u001b[0;36m<module>\u001b[1;34m\u001b[0m\n\u001b[0;32m      2\u001b[0m \u001b[1;33m\u001b[0m\u001b[0m\n\u001b[0;32m      3\u001b[0m \u001b[1;33m\u001b[0m\u001b[0m\n\u001b[1;32m----> 4\u001b[1;33m \u001b[0ms1\u001b[0m\u001b[1;33m\u001b[0m\u001b[1;33m\u001b[0m\u001b[0m\n\u001b[0m",
      "\u001b[1;31mNameError\u001b[0m: name 's1' is not defined"
     ]
    }
   ],
   "source": [
    "sl = \"Python\"\n",
    "\n",
    "\n",
    "s1"
   ]
  },
  {
   "cell_type": "code",
   "execution_count": 11,
   "metadata": {},
   "outputs": [
    {
     "data": {
      "text/plain": [
       "'n'"
      ]
     },
     "execution_count": 11,
     "metadata": {},
     "output_type": "execute_result"
    }
   ],
   "source": [
    "s1 = \"python\"\n",
    "\n",
    "s1[len(s1)-1]"
   ]
  },
  {
   "cell_type": "code",
   "execution_count": 35,
   "metadata": {},
   "outputs": [
    {
     "ename": "SyntaxError",
     "evalue": "unexpected EOF while parsing (<ipython-input-35-43f6fe7ec699>, line 15)",
     "output_type": "error",
     "traceback": [
      "\u001b[1;36m  File \u001b[1;32m\"<ipython-input-35-43f6fe7ec699>\"\u001b[1;36m, line \u001b[1;32m15\u001b[0m\n\u001b[1;33m    s1[len(s1)//2:len(s1)//2-2:-1#reverse the middle two characters in an even length string\u001b[0m\n\u001b[1;37m                                                                                            ^\u001b[0m\n\u001b[1;31mSyntaxError\u001b[0m\u001b[1;31m:\u001b[0m unexpected EOF while parsing\n"
     ]
    }
   ],
   "source": [
    "s1 = \"python\"\n",
    "s1[0] # accessing the first character\n",
    "s1[-1]# #accessing the second character\n",
    "s1[len(s1)-1] #accessing the last character\n",
    "s1[-1] #another way accessing the last character\n",
    "s1[-2] #accessing the penultimate character\n",
    "s1[0:2] #accessing the first chRACTERS IN A STRING\n",
    "s1[-2:] #accessing the last two characters in a string\n",
    "s1[4:] #accessing all characters from 5th character to end of string\n",
    "# accessing all characters except first and last character\n",
    "s1[1:-1]# accessing all characters except first and lAST CHARACTER\n",
    "s1[len(s1)//2] #accessing the middle character \n",
    "s1[-1::-1]# reverse of a string \n",
    "s1[-1:-3:-1]# accessing last two characters in reverse order\n",
    "s1[len(s1)//2:len(s1)//2-2:-1#reverse the middle two characters in an even length string\n"
   ]
  },
  {
   "cell_type": "code",
   "execution_count": null,
   "metadata": {},
   "outputs": [],
   "source": []
  },
  {
   "cell_type": "markdown",
   "metadata": {},
   "source": [
    "### functions"
   ]
  },
  {
   "cell_type": "code",
   "execution_count": 40,
   "metadata": {},
   "outputs": [
    {
     "data": {
      "text/plain": [
       "'nohtyp'"
      ]
     },
     "execution_count": 40,
     "metadata": {},
     "output_type": "execute_result"
    }
   ],
   "source": [
    "# function to reverse a string\n",
    "def reverseString(s):\n",
    "    return s[::-1]\n",
    "\n",
    "\n",
    "reverseString(\"python\")"
   ]
  },
  {
   "cell_type": "code",
   "execution_count": 45,
   "metadata": {},
   "outputs": [
    {
     "data": {
      "text/plain": [
       "True"
      ]
     },
     "execution_count": 45,
     "metadata": {},
     "output_type": "execute_result"
    }
   ],
   "source": [
    "#function to check if a string is a palindrome\n",
    "def palindrome(s):\n",
    "    if s == s[::-1]:\n",
    "        return True\n",
    "    else:\n",
    "        return False\n",
    "    \n",
    "palindrome(\"123321\")"
   ]
  },
  {
   "cell_type": "code",
   "execution_count": 53,
   "metadata": {},
   "outputs": [
    {
     "data": {
      "text/plain": [
       "True"
      ]
     },
     "execution_count": 53,
     "metadata": {},
     "output_type": "execute_result"
    }
   ],
   "source": [
    "# function to check if a given year is a leap year\n",
    "def isleapyear(year):\n",
    "    if year % 400 == 0 or (year % 100 != 0 and year % 4 == 0):\n",
    "         return True\n",
    "    return False\n",
    "\n",
    "isleapyear(2020)\n",
    "        "
   ]
  },
  {
   "cell_type": "code",
   "execution_count": 55,
   "metadata": {},
   "outputs": [
    {
     "name": "stdout",
     "output_type": "stream",
     "text": [
      "enter a number123456\n"
     ]
    },
    {
     "data": {
      "text/plain": [
       "6"
      ]
     },
     "execution_count": 55,
     "metadata": {},
     "output_type": "execute_result"
    }
   ],
   "source": [
    "# function to count the number of digits in a given number\n",
    "def digitcount(s):\n",
    "    return len(s)\n",
    "s=input(\"enter a number\")\n",
    "digitcount(s)\n"
   ]
  },
  {
   "cell_type": "code",
   "execution_count": 68,
   "metadata": {},
   "outputs": [
    {
     "data": {
      "text/plain": [
       "784"
      ]
     },
     "execution_count": 68,
     "metadata": {},
     "output_type": "execute_result"
    }
   ],
   "source": [
    "# function to identify the greatest of 4 numbers\n",
    "def greatestof4numbers(n1,n2,n3,n4):\n",
    "    if n1>n2 and n1>n3 and n1>n4:\n",
    "        return n1\n",
    "    elif n2>n3 and n2>n4:\n",
    "        return n2\n",
    "    elif n3>n4:\n",
    "        return n3\n",
    "    else:\n",
    "        return n4\n",
    "greatestof4numbers(123,321,562,784)\n"
   ]
  },
  {
   "cell_type": "markdown",
   "metadata": {},
   "source": [
    "## iteration\n",
    "* for\n",
    "* while"
   ]
  },
  {
   "cell_type": "code",
   "execution_count": 70,
   "metadata": {},
   "outputs": [
    {
     "name": "stdout",
     "output_type": "stream",
     "text": [
      "1 2 3 4 5 6 7 8 9 10 11 12 13 14 15 16 17 18 19 20 21 22 23 24 25 26 27 28 29 30 \n",
      "1 2 3 4 5 6 7 8 9 10 \n"
     ]
    }
   ],
   "source": [
    "#function to print n natural numbers\n",
    "\n",
    "def printNnaturalnumbers(n):\n",
    "    for counter in range(1,n+1):\n",
    "        print(counter, end=\" \")\n",
    "    print()\n",
    "    return\n",
    "printNnaturalnumbers(30)\n",
    "printNnaturalnumbers(10)"
   ]
  },
  {
   "cell_type": "code",
   "execution_count": 73,
   "metadata": {},
   "outputs": [
    {
     "name": "stdout",
     "output_type": "stream",
     "text": [
      "1 2 3 4 5 6 7 8 9 "
     ]
    }
   ],
   "source": [
    "# function to print n natural numbers using a while loop\n",
    "\n",
    "def nnaturalnumbers(n):\n",
    "    counter = 1\n",
    "    while counter <=n:\n",
    "        print(counter, end = \" \")\n",
    "        counter = counter + 1\n",
    "    return\n",
    "nnaturalnumbers(9)"
   ]
  },
  {
   "cell_type": "code",
   "execution_count": 79,
   "metadata": {},
   "outputs": [
    {
     "name": "stdout",
     "output_type": "stream",
     "text": [
      "enter lower bound54\n",
      "enter upper boundary5400\n",
      "54 60 66 72 78 84 90 96 102 108 114 120 126 132 138 144 150 156 162 168 174 180 186 192 198 204 210 216 222 228 234 240 246 252 258 264 270 276 282 288 294 300 306 312 318 324 330 336 342 348 354 360 366 372 378 384 390 396 402 408 414 420 426 432 438 444 450 456 462 468 474 480 486 492 498 504 510 516 522 528 534 540 546 552 558 564 570 576 582 588 594 600 606 612 618 624 630 636 642 648 654 660 666 672 678 684 690 696 702 708 714 720 726 732 738 744 750 756 762 768 774 780 786 792 798 804 810 816 822 828 834 840 846 852 858 864 870 876 882 888 894 900 906 912 918 924 930 936 942 948 954 960 966 972 978 984 990 996 1002 1008 1014 1020 1026 1032 1038 1044 1050 1056 1062 1068 1074 1080 1086 1092 1098 1104 1110 1116 1122 1128 1134 1140 1146 1152 1158 1164 1170 1176 1182 1188 1194 1200 1206 1212 1218 1224 1230 1236 1242 1248 1254 1260 1266 1272 1278 1284 1290 1296 1302 1308 1314 1320 1326 1332 1338 1344 1350 1356 1362 1368 1374 1380 1386 1392 1398 1404 1410 1416 1422 1428 1434 1440 1446 1452 1458 1464 1470 1476 1482 1488 1494 1500 1506 1512 1518 1524 1530 1536 1542 1548 1554 1560 1566 1572 1578 1584 1590 1596 1602 1608 1614 1620 1626 1632 1638 1644 1650 1656 1662 1668 1674 1680 1686 1692 1698 1704 1710 1716 1722 1728 1734 1740 1746 1752 1758 1764 1770 1776 1782 1788 1794 1800 1806 1812 1818 1824 1830 1836 1842 1848 1854 1860 1866 1872 1878 1884 1890 1896 1902 1908 1914 1920 1926 1932 1938 1944 1950 1956 1962 1968 1974 1980 1986 1992 1998 2004 2010 2016 2022 2028 2034 2040 2046 2052 2058 2064 2070 2076 2082 2088 2094 2100 2106 2112 2118 2124 2130 2136 2142 2148 2154 2160 2166 2172 2178 2184 2190 2196 2202 2208 2214 2220 2226 2232 2238 2244 2250 2256 2262 2268 2274 2280 2286 2292 2298 2304 2310 2316 2322 2328 2334 2340 2346 2352 2358 2364 2370 2376 2382 2388 2394 2400 2406 2412 2418 2424 2430 2436 2442 2448 2454 2460 2466 2472 2478 2484 2490 2496 2502 2508 2514 2520 2526 2532 2538 2544 2550 2556 2562 2568 2574 2580 2586 2592 2598 2604 2610 2616 2622 2628 2634 2640 2646 2652 2658 2664 2670 2676 2682 2688 2694 2700 2706 2712 2718 2724 2730 2736 2742 2748 2754 2760 2766 2772 2778 2784 2790 2796 2802 2808 2814 2820 2826 2832 2838 2844 2850 2856 2862 2868 2874 2880 2886 2892 2898 2904 2910 2916 2922 2928 2934 2940 2946 2952 2958 2964 2970 2976 2982 2988 2994 3000 3006 3012 3018 3024 3030 3036 3042 3048 3054 3060 3066 3072 3078 3084 3090 3096 3102 3108 3114 3120 3126 3132 3138 3144 3150 3156 3162 3168 3174 3180 3186 3192 3198 3204 3210 3216 3222 3228 3234 3240 3246 3252 3258 3264 3270 3276 3282 3288 3294 3300 3306 3312 3318 3324 3330 3336 3342 3348 3354 3360 3366 3372 3378 3384 3390 3396 3402 3408 3414 3420 3426 3432 3438 3444 3450 3456 3462 3468 3474 3480 3486 3492 3498 3504 3510 3516 3522 3528 3534 3540 3546 3552 3558 3564 3570 3576 3582 3588 3594 3600 3606 3612 3618 3624 3630 3636 3642 3648 3654 3660 3666 3672 3678 3684 3690 3696 3702 3708 3714 3720 3726 3732 3738 3744 3750 3756 3762 3768 3774 3780 3786 3792 3798 3804 3810 3816 3822 3828 3834 3840 3846 3852 3858 3864 3870 3876 3882 3888 3894 3900 3906 3912 3918 3924 3930 3936 3942 3948 3954 3960 3966 3972 3978 3984 3990 3996 4002 4008 4014 4020 4026 4032 4038 4044 4050 4056 4062 4068 4074 4080 4086 4092 4098 4104 4110 4116 4122 4128 4134 4140 4146 4152 4158 4164 4170 4176 4182 4188 4194 4200 4206 4212 4218 4224 4230 4236 4242 4248 4254 4260 4266 4272 4278 4284 4290 4296 4302 4308 4314 4320 4326 4332 4338 4344 4350 4356 4362 4368 4374 4380 4386 4392 4398 4404 4410 4416 4422 4428 4434 4440 4446 4452 4458 4464 4470 4476 4482 4488 4494 4500 4506 4512 4518 4524 4530 4536 4542 4548 4554 4560 4566 4572 4578 4584 4590 4596 4602 4608 4614 4620 4626 4632 4638 4644 4650 4656 4662 4668 4674 4680 4686 4692 4698 4704 4710 4716 4722 4728 4734 4740 4746 4752 4758 4764 4770 4776 4782 4788 4794 4800 4806 4812 4818 4824 4830 4836 4842 4848 4854 4860 4866 4872 4878 4884 4890 4896 4902 4908 4914 4920 4926 4932 4938 4944 4950 4956 4962 4968 4974 4980 4986 4992 4998 5004 5010 5016 5022 5028 5034 5040 5046 5052 5058 5064 5070 5076 5082 5088 5094 5100 5106 5112 5118 5124 5130 5136 5142 5148 5154 5160 5166 5172 5178 5184 5190 5196 5202 5208 5214 5220 5226 5232 5238 5244 5250 5256 5262 5268 5274 5280 5286 5292 5298 5304 5310 5316 5322 5328 5334 5340 5346 5352 5358 5364 5370 5376 5382 5388 5394 5400 "
     ]
    }
   ],
   "source": [
    "# function to print all numbers divisble by 6 \n",
    "# and not a factor of 100 in a given range(lb,ub) inclusive\n",
    "def printdivisibleby6(lb,ub):\n",
    "    counter = lb\n",
    "    while counter<=ub:\n",
    "        if counter%6==0 and 100%counter!=0:\n",
    "            print(counter,end =\" \")\n",
    "        counter = counter + 1\n",
    "lb=int(input(\"enter lower bound\"))\n",
    "ub=int(input(\"enter upper boundary\"))\n",
    "printdivisibleby6(lb,ub)\n",
    "    \n"
   ]
  },
  {
   "cell_type": "code",
   "execution_count": 80,
   "metadata": {},
   "outputs": [
    {
     "name": "stdout",
     "output_type": "stream",
     "text": [
      "enter lb4\n",
      "enter ub20\n",
      "2024.0\n"
     ]
    }
   ],
   "source": [
    "#### function to find the average of cubes of all even numbers\n",
    "#in a given range (ib,ub)inclusive\n",
    "def avgofcubes(lb,ub):\n",
    "    total=0\n",
    "    count=0\n",
    "    for i in range(lb,ub):\n",
    "        if i%2==0:\n",
    "            total=total+i**3\n",
    "            count=count+1\n",
    "    print(total/count)\n",
    "lb=int(input(\"enter lb\"))\n",
    "ub=int(input(\"enter ub\"))\n",
    "avgofcubes(lb,ub)\n",
    "\n",
    "            "
   ]
  },
  {
   "cell_type": "code",
   "execution_count": 87,
   "metadata": {},
   "outputs": [
    {
     "name": "stdout",
     "output_type": "stream",
     "text": [
      "enter n12\n",
      "1 2 3 4 6 12 "
     ]
    }
   ],
   "source": [
    "###### function to generate the list of factors for a given numbers\n",
    "# 12->1 2 3 4 6 12\n",
    "def factors(n):\n",
    "    for i in range(1,n+1):\n",
    "        if n%i==0:\n",
    "            print(i,end=\" \")\n",
    "n=int(input(\"enter n\"))\n",
    "factors(n)\n",
    "    "
   ]
  },
  {
   "cell_type": "code",
   "execution_count": 88,
   "metadata": {},
   "outputs": [
    {
     "name": "stdout",
     "output_type": "stream",
     "text": [
      "enter n5\n",
      "120\n"
     ]
    }
   ],
   "source": [
    "# Function to calculate the factorial of a given number\n",
    "def factorial(n):\n",
    "    sum=1\n",
    "    for i in range (1,n+1):\n",
    "        sum=sum*i\n",
    "    print(sum)\n",
    "n=int(input(\"enter n\"))\n",
    "factorial(n)"
   ]
  },
  {
   "cell_type": "code",
   "execution_count": 4,
   "metadata": {},
   "outputs": [
    {
     "name": "stdout",
     "output_type": "stream",
     "text": [
      "Enter n: 24\n"
     ]
    },
    {
     "data": {
      "text/plain": [
       "False"
      ]
     },
     "execution_count": 4,
     "metadata": {},
     "output_type": "execute_result"
    }
   ],
   "source": [
    "# Function to check if a given number is Prime\n",
    "n=int(input(\"Enter n: \"))\n",
    "def factors(n):\n",
    "    count=0\n",
    "    for i in range(1,n+1):\n",
    "        if n%i == 0:\n",
    "            count+=1\n",
    "    return count\n",
    "def prime(n):\n",
    "    x=factors(n)\n",
    "    if x == 2:\n",
    "        return True\n",
    "    else:\n",
    "        return False\n",
    "prime(n)\n",
    "\n",
    "    "
   ]
  },
  {
   "cell_type": "code",
   "execution_count": null,
   "metadata": {},
   "outputs": [],
   "source": [
    "# Function to calculate the average first N Prime numbers\n",
    "def averageoffirstnnumbers(n):\n",
    "    count=0\n",
    "    sum=0\n",
    "    for i in range(1,n+1):\n",
    "        if n%i==0:\n",
    "        \n",
    "            sum=sum+i\n",
    "        count=count+i\n",
    "        return sum/count\n",
    "n=int(input(\"Enter n: \"))\n",
    "averageoffirstnnumbers(n)\n",
    "\n"
   ]
  },
  {
   "cell_type": "code",
   "execution_count": null,
   "metadata": {},
   "outputs": [],
   "source": [
    "# function to print the alternate values in a range in the same line\n",
    "#[500,550] -> 500 502 504........500\n",
    "#(500,550) -> 501 503 505......549\n",
    "#range(500 550) ->500 501 502 .....549\n",
    "#all set based functions in python have start value is inclusive and end value is exclusive\n",
    "def alternatevalues(lb,ub):\n",
    "    for i in range(lb,ub+1,2):\n",
    "        print(i,end=\" \")\n",
    "    return\n",
    "alternatevalues(500,525)\n",
    "        \n",
    "        \n"
   ]
  },
  {
   "cell_type": "code",
   "execution_count": null,
   "metadata": {},
   "outputs": [],
   "source": [
    "# function to print reverse of given range in the same line\n",
    "def reverse(lb,ub):\n",
    "    for i in range(ub,lb-1,-1):\n",
    "        print(i,end=\" \")\n",
    "    return  \n",
    "reverse(1,10)"
   ]
  },
  {
   "cell_type": "code",
   "execution_count": 37,
   "metadata": {},
   "outputs": [
    {
     "name": "stdout",
     "output_type": "stream",
     "text": [
      "99 97 95 93 91 89 87 85 83 81 79 77 75 73 71 69 67 65 63 61 59 57 55 53 51 49 47 45 43 41 39 37 35 33 31 29 27 25 23 21 19 17 15 13 11 "
     ]
    }
   ],
   "source": [
    "# function to print the odd numbers in a reverse range\n",
    "def reverseoddnumbers(lb,ub):\n",
    "    for i in range(ub,lb-1,-1):\n",
    "        if i%2!=0:\n",
    "            print(i,end=\" \")\n",
    "    return\n",
    "reverseoddnumbers(10,100)\n"
   ]
  },
  {
   "cell_type": "code",
   "execution_count": 42,
   "metadata": {},
   "outputs": [
    {
     "data": {
      "text/plain": [
       "15150"
      ]
     },
     "execution_count": 42,
     "metadata": {},
     "output_type": "execute_result"
    }
   ],
   "source": [
    "# function to caliculate the sum of numbers in a range\n",
    "def sumofnumbers(lb,ub):\n",
    "    sum=0\n",
    "    for i in range(lb,ub+1):\n",
    "        sum=sum+i\n",
    "    return sum\n",
    "sumofnumbers(100,200)\n"
   ]
  },
  {
   "cell_type": "code",
   "execution_count": 53,
   "metadata": {},
   "outputs": [
    {
     "data": {
      "text/plain": [
       "145.0"
      ]
     },
     "execution_count": 53,
     "metadata": {},
     "output_type": "execute_result"
    }
   ],
   "source": [
    " # function to caliculate the average of a given range\n",
    "\n",
    "def average(lb,ub):\n",
    "        sum=0\n",
    "        count=0\n",
    "        for i in range(lb,ub+1):\n",
    "            sum=sum+i # sum caliculation\n",
    "            count=count+1 # counting number of values\n",
    "        return sum/count\n",
    "\n",
    "average(90,200)\n",
    "            "
   ]
  },
  {
   "cell_type": "code",
   "execution_count": null,
   "metadata": {},
   "outputs": [],
   "source": [
    "# Function to generate all leap years in a given time period\n",
    "#2000-2020-> 2000 2004 2008 2012 2016 2020 \n",
    "\n",
    "is leapyear(year)\n",
    "generateleapyears(start,endyear)\n",
    "\n"
   ]
  }
 ],
 "metadata": {
  "kernelspec": {
   "display_name": "Python 3",
   "language": "python",
   "name": "python3"
  },
  "language_info": {
   "codemirror_mode": {
    "name": "ipython",
    "version": 3
   },
   "file_extension": ".py",
   "mimetype": "text/x-python",
   "name": "python",
   "nbconvert_exporter": "python",
   "pygments_lexer": "ipython3",
   "version": "3.7.3"
  }
 },
 "nbformat": 4,
 "nbformat_minor": 2
}
