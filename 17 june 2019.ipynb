{
 "cells": [
  {
   "cell_type": "markdown",
   "metadata": {},
   "source": [
    "### duration program\n",
    "* input: start time,end time(hh,mm)\n",
    "          hh-{00,01,02,03.....23}\n",
    "          mm-{00,01,02,02......59}\n",
    "          hh mm-{00 00,23 59}\n",
    "          \n",
    "**output**:time difference in hh mm\n",
    "          \n"
   ]
  },
  {
   "cell_type": "code",
   "execution_count": 3,
   "metadata": {},
   "outputs": [
    {
     "name": "stdout",
     "output_type": "stream",
     "text": [
      "5 41\n"
     ]
    }
   ],
   "source": [
    "# calculate time difference as  total number of minutes \n",
    "# convert the total minutes into hh mm\n",
    "\n",
    "s=\"2 42 8 23\"\n",
    "def minutedifference(s):\n",
    "    s=s.split()\n",
    "    sh=int(s[0])\n",
    "    sm=int(s[1])\n",
    "    eh=int(s[2])\n",
    "    em=int(s[3])\n",
    "    startminutes=(sh*60)+sm\n",
    "    endminutes=(eh*60)+em\n",
    "    return endminutes-startminutes\n",
    "def outputtimeformat(minutes):\n",
    "    # convert minutes to hh mm\n",
    "    hh=minutes//60\n",
    "    mm=minutes%60\n",
    "    print(hh,mm)\n",
    "    return\n",
    "minutes=minutedifference(s)\n",
    "outputtimeformat(minutes)"
   ]
  },
  {
   "cell_type": "markdown",
   "metadata": {},
   "source": [
    "## play with numbers\n",
    "\n",
    "line1: array size(n),no of queries(q)\n",
    "line2: n array elements\n",
    "next q lines : query-sub array of the original array\n",
    "\n",
    "5 2\n",
    "1 2 3 4 5\n",
    "1 2\n",
    "0 5 \n"
   ]
  },
  {
   "cell_type": "code",
   "execution_count": null,
   "metadata": {},
   "outputs": [],
   "source": []
  }
 ],
 "metadata": {
  "kernelspec": {
   "display_name": "Python 3",
   "language": "python",
   "name": "python3"
  },
  "language_info": {
   "codemirror_mode": {
    "name": "ipython",
    "version": 3
   },
   "file_extension": ".py",
   "mimetype": "text/x-python",
   "name": "python",
   "nbconvert_exporter": "python",
   "pygments_lexer": "ipython3",
   "version": "3.7.3"
  }
 },
 "nbformat": 4,
 "nbformat_minor": 2
}
