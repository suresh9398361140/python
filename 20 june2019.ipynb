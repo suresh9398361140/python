{
 "cells": [
  {
   "cell_type": "markdown",
   "metadata": {},
   "source": [
    "### date:20 june2019\n",
    "### Dayobjectives:\n",
    "* regular expressions\n",
    "* constructing regular expressions for various use cases\n",
    "* regular expressions module and related functions in python\n",
    "* improving the contact application with name and phone number validation using regular expressions\n",
    "\n",
    "* file handling\n",
    "* text files\n",
    "* upgrading the contacts application to store contact information in a text file"
   ]
  },
  {
   "cell_type": "markdown",
   "metadata": {},
   "source": [
    "### regular expressions\n",
    "- pattern matching\n",
    "- symbolic notation of a pattern\n",
    "    - pattern:format which repeats\n",
    "    - pattern(re)-represents the set of all values that matches a pattern\n",
    "- [0-9]-> any digit \n",
    "- [a-z]-> any lower case alphabet\n",
    "- [2468]-> all single digit multiples of 2\n",
    "    [8642]->\n",
    "    [6824] \n",
    "-^[0-9]{1}$->only single digit numbers\n",
    "-^[0-0]{3}$->only 3 digit multiples\n",
    "-[1-9][0-9]*[05]$->$->all multiples of 5\n",
    "\n",
    "\n",
    "-  ->all 10 digit numbers\n",
    "- -> ^[6-9][0-9]{9}$|^[0][6-9][0-9]{9}$|^[+][9][1][6-9][0-9]{9}$-> ->validating phone number(india)(start with 986******)\n",
    "- ([1-9][0-9]*[05])$|^([5])$ gives all multiples of 5\n",
    "- [w][o][r][d] or (word) ->searching for a word\n",
    "->email validation(username@domain.ext)\n",
    "    -username\n",
    "        -lenth of username:[6,15]\n",
    "        -no special characters other than_ .\n",
    "        -should not begin and end with _ .\n",
    "        -characters set:all digits and lower case alphabet\n",
    "    -extension\n",
    "        -length of extension:[2,4]\n",
    "        -no special characters\n",
    "        -character set:lower case alphabet \n",
    "    \n",
    "    -domain\n",
    "        lenth of domain:[3,18]\n",
    "        no special characters\n",
    "        character set: all digits and lower case alphabet\n",
    "- ^[0-9a-z][0-9a-z_.]{4,13}[0-9a-z][@][a-z0-9]{3,18}[.][a-z]{2,4}$ for email\n",
    "site-> re module python documentation\n",
    "^[a].....[z]$- -> any string of length 5 that starts with 'a' and ends with 'z'\n",
    "^[a].*[z]$ ->any string of any length that starting with a and endinh with z\n",
    "         "
   ]
  },
  {
   "cell_type": "code",
   "execution_count": null,
   "metadata": {},
   "outputs": [],
   "source": []
  },
  {
   "cell_type": "code",
   "execution_count": 3,
   "metadata": {},
   "outputs": [
    {
     "name": "stdout",
     "output_type": "stream",
     "text": [
      "valid Number\n"
     ]
    }
   ],
   "source": [
    "# function to validate a phone number in python\n",
    "import re\n",
    "\n",
    "def phoneNumbervalidator(number):\n",
    "    pattern='^[6-9][0-9]{9}$|^[0][6-9][0-9]{9}$|^[+][9][1][6-9][0-9]{9}$'\n",
    "    if re.match(pattern,str(number)):\n",
    "        print(\"valid Number\")\n",
    "    else:\n",
    "        print(\"invalid Number\")\n",
    "    return\n",
    "phoneNumbervalidator(9398361140)\n",
    "\n",
    "def emailvalidator(email):\n",
    "    pattern=\"^[0-9a-z][0-9a-z_.]{4,13}[0-9a-z][@][a-z0-9]{3,18}[.][a-z]{2,4}$ \"\n",
    "    if re.match(pattern,email):\n",
    "        return True\n",
    "    return False\n",
    "emailvalidator(\"_12345@\")\n",
    "\n"
   ]
  },
  {
   "cell_type": "code",
   "execution_count": 8,
   "metadata": {},
   "outputs": [
    {
     "ename": "TypeError",
     "evalue": "addcontact() takes 2 positional arguments but 3 were given",
     "output_type": "error",
     "traceback": [
      "\u001b[1;31m---------------------------------------------------------------------------\u001b[0m",
      "\u001b[1;31mTypeError\u001b[0m                                 Traceback (most recent call last)",
      "\u001b[1;32m<ipython-input-8-854e75f3d9d3>\u001b[0m in \u001b[0;36m<module>\u001b[1;34m\u001b[0m\n\u001b[0;32m     18\u001b[0m \u001b[1;33m\u001b[0m\u001b[0m\n\u001b[0;32m     19\u001b[0m     \u001b[1;32mreturn\u001b[0m\u001b[1;33m\u001b[0m\u001b[1;33m\u001b[0m\u001b[0m\n\u001b[1;32m---> 20\u001b[1;33m \u001b[0maddcontact\u001b[0m\u001b[1;33m(\u001b[0m\u001b[1;34m\"name1\"\u001b[0m\u001b[1;33m,\u001b[0m\u001b[1;36m123456789\u001b[0m\u001b[1;33m,\u001b[0m\u001b[1;34m\"name321@gmail.com\"\u001b[0m\u001b[1;33m)\u001b[0m\u001b[1;33m\u001b[0m\u001b[1;33m\u001b[0m\u001b[0m\n\u001b[0m",
      "\u001b[1;31mTypeError\u001b[0m: addcontact() takes 2 positional arguments but 3 were given"
     ]
    }
   ],
   "source": [
    "contacts={\"name1\":[123456789,'name1@domain.ext'],}\n",
    "def addcontact(name,phone):\n",
    "    #verify that the contact doesnot already exists\n",
    "    if name in contacts:\n",
    "        print(name,\"already exists.\")\n",
    "    else:\n",
    "        if not phoneNumbervalidator(phone):\n",
    "            print(\"invalid phone number\")\n",
    "            return\n",
    "        if not emailvalidator(email):\n",
    "            print(\"invalid email adress\")\n",
    "            return\n",
    "        newcontact=[]\n",
    "        newcontact.append(phone)\n",
    "        newcontact.append(email)\n",
    "        contacts[name]=newcontact\n",
    "        print(name,\"added successfully\")\n",
    "        \n",
    "    return\n",
    "addcontact(\"name1\",123456789,\"name321@gmail.com\")"
   ]
  },
  {
   "cell_type": "code",
   "execution_count": 10,
   "metadata": {},
   "outputs": [
    {
     "name": "stdout",
     "output_type": "stream",
     "text": [
      "name1\n",
      "phone: 123456789\n",
      "email: name1@domain.ext\n"
     ]
    }
   ],
   "source": [
    "def searchcontacts(name):\n",
    "    if name in contacts:\n",
    "        print(name)\n",
    "        print(\"phone:\",contacts[name][0])\n",
    "        print(\"email:\",contacts[name][1])\n",
    "    else:\n",
    "        print(\"%s does not exists\"%name)\n",
    "    return\n",
    "searchcontacts(\"name1\")"
   ]
  },
  {
   "cell_type": "code",
   "execution_count": 13,
   "metadata": {},
   "outputs": [
    {
     "ename": "SyntaxError",
     "evalue": "invalid syntax (<ipython-input-13-ed58e713865a>, line 4)",
     "output_type": "error",
     "traceback": [
      "\u001b[1;36m  File \u001b[1;32m\"<ipython-input-13-ed58e713865a>\"\u001b[1;36m, line \u001b[1;32m4\u001b[0m\n\u001b[1;33m    return\u001b[0m\n\u001b[1;37m         ^\u001b[0m\n\u001b[1;31mSyntaxError\u001b[0m\u001b[1;31m:\u001b[0m invalid syntax\n"
     ]
    }
   ],
   "source": [
    "def importcontacts(newcontacts):\n",
    "    contacts.update(newcontacts)\n",
    "    print(len(newcontacts.keys(),\"contacts added successfully\")\n",
    "    return\n",
    "newcontacts={\"name4\":9398361140,\"name_123@gmail.com}\n",
    "importcontacts(newcontacts)\n",
    "contacts"
   ]
  },
  {
   "cell_type": "code",
   "execution_count": 15,
   "metadata": {},
   "outputs": [
    {
     "ename": "SyntaxError",
     "evalue": "invalid syntax (<ipython-input-15-3123c33c112b>, line 4)",
     "output_type": "error",
     "traceback": [
      "\u001b[1;36m  File \u001b[1;32m\"<ipython-input-15-3123c33c112b>\"\u001b[1;36m, line \u001b[1;32m4\u001b[0m\n\u001b[1;33m    print(contact,\"\\n\",\"phone:\",info[0]),\"\\n\")\u001b[0m\n\u001b[1;37m                                             ^\u001b[0m\n\u001b[1;31mSyntaxError\u001b[0m\u001b[1;31m:\u001b[0m invalid syntax\n"
     ]
    }
   ],
   "source": [
    "#function to list all contacts\n",
    "def listallcontacts():\n",
    "    for contact,info in contacts.items():\n",
    "        print(contact,\"\\n\",\"phone:\",info[0]),\"\\n\")\n",
    "    return\n",
    "listallcontacts()\n",
    "        "
   ]
  },
  {
   "cell_type": "code",
   "execution_count": null,
   "metadata": {},
   "outputs": [],
   "source": [
    "# function to edit contact information\n",
    "def editcontact(name,phone,email):"
   ]
  },
  {
   "cell_type": "markdown",
   "metadata": {},
   "source": [
    "### file handling in python\n",
    "\n",
    "file ->document containing information residing on the permanent storage\n",
    "types-Text,PDF,CSV,etc\n",
    "\n",
    "file i/o-channelling i/o data to files \n",
    "default i/o channels-keyboard/screen\n",
    "\n",
    "change i/o channel to files for reading and writing\n",
    "read to a file-input from file\n",
    "write to a file-output to a file\n",
    "read/write file-open(filename,mode)\n"
   ]
  },
  {
   "cell_type": "code",
   "execution_count": 16,
   "metadata": {},
   "outputs": [
    {
     "name": "stdout",
     "output_type": "stream",
     "text": [
      "text\n"
     ]
    },
    {
     "data": {
      "text/plain": [
       "'text'"
      ]
     },
     "execution_count": 16,
     "metadata": {},
     "output_type": "execute_result"
    }
   ],
   "source": [
    "s=input()\n",
    "s"
   ]
  },
  {
   "cell_type": "code",
   "execution_count": 26,
   "metadata": {},
   "outputs": [
    {
     "ename": "SyntaxError",
     "evalue": "invalid syntax (<ipython-input-26-23e73d6c48df>, line 9)",
     "output_type": "error",
     "traceback": [
      "\u001b[1;36m  File \u001b[1;32m\"<ipython-input-26-23e73d6c48df>\"\u001b[1;36m, line \u001b[1;32m9\u001b[0m\n\u001b[1;33m    for line in filedata.split\u001b[0m\n\u001b[1;37m                              ^\u001b[0m\n\u001b[1;31mSyntaxError\u001b[0m\u001b[1;31m:\u001b[0m invalid syntax\n"
     ]
    }
   ],
   "source": [
    "# function to read a file\n",
    "def printfiledatafiles(filename):\n",
    "    with open(filename,'r') as f:\n",
    "        for line in f:\n",
    "            print(line,end='')\n",
    "    return\n",
    "    f.closer()\n",
    "    return filedata\n",
    "filename='datafiles/data.txt'\n",
    "filedata=readfile(filename)\n",
    "for line in filedata.split\n",
    "    print(line)"
   ]
  },
  {
   "cell_type": "code",
   "execution_count": null,
   "metadata": {},
   "outputs": [],
   "source": []
  },
  {
   "cell_type": "code",
   "execution_count": 28,
   "metadata": {},
   "outputs": [],
   "source": [
    "# function to write data into a file\n",
    "def writeintofile(filename,filedata):\n",
    "    with open(filename,'w')as f:\n",
    "        f.write(filedata)\n",
    "    return\n",
    "filename='data files/data.txt'\n",
    "writeintofile(filename,\"newdata\")\n",
    "            "
   ]
  },
  {
   "cell_type": "code",
   "execution_count": 36,
   "metadata": {},
   "outputs": [],
   "source": [
    "#function to append data to a file\n",
    "def appenddatatofile(filename,filedata):\n",
    "    with open(filename,'a')as f:\n",
    "        for line in filedata:\n",
    "            \n",
    "            f.write('\\n'+line)\n",
    "    return\n",
    "filedata=[\"line4\",\"line5\"]\n",
    "appenddatatofile(filename,filedata)"
   ]
  },
  {
   "cell_type": "code",
   "execution_count": null,
   "metadata": {},
   "outputs": [],
   "source": []
  },
  {
   "cell_type": "code",
   "execution_count": null,
   "metadata": {},
   "outputs": [],
   "source": []
  },
  {
   "cell_type": "code",
   "execution_count": null,
   "metadata": {},
   "outputs": [],
   "source": []
  }
 ],
 "metadata": {
  "kernelspec": {
   "display_name": "Python 3",
   "language": "python",
   "name": "python3"
  },
  "language_info": {
   "codemirror_mode": {
    "name": "ipython",
    "version": 3
   },
   "file_extension": ".py",
   "mimetype": "text/x-python",
   "name": "python",
   "nbconvert_exporter": "python",
   "pygments_lexer": "ipython3",
   "version": "3.7.3"
  }
 },
 "nbformat": 4,
 "nbformat_minor": 2
}
