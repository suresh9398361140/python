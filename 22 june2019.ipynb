{
 "cells": [
  {
   "cell_type": "markdown",
   "metadata": {},
   "source": [
    "### 22nd june2019\n",
    "\n",
    "#### day objectives\n",
    "- filehandling\n",
    "    - basic file data processing\n",
    "        - accessing and modifying file data\n",
    "    - character count \n",
    "    - line count\n",
    "    - filesize\n",
    "    - word count\n",
    "    - unique word count"
   ]
  },
  {
   "cell_type": "code",
   "execution_count": null,
   "metadata": {},
   "outputs": [],
   "source": []
  },
  {
   "cell_type": "code",
   "execution_count": 3,
   "metadata": {},
   "outputs": [
    {
     "name": "stdout",
     "output_type": "stream",
     "text": [
      "newdataline2\n",
      "line3line4line5\n",
      "line4\n",
      "line5\n"
     ]
    }
   ],
   "source": [
    "# read a file - file should exist(read mode) \n",
    "# write to a file-file can exists(append mode) or a new file can be created(write mode)\n",
    "# function to read entire file data into a single string.\n",
    "\n",
    "def readfile(filename):\n",
    "    with open(filepath,'r') as f:\n",
    "        filedata=f.read() # f.read reads entire file data into a string\n",
    "    return filedata\n",
    "filepath='data files/data.txt'  \n",
    "print(readfile(filepath))"
   ]
  },
  {
   "cell_type": "code",
   "execution_count": 8,
   "metadata": {},
   "outputs": [
    {
     "name": "stdout",
     "output_type": "stream",
     "text": [
      "total number of characters: 37\n"
     ]
    }
   ],
   "source": [
    "def charactercount(filepath):\n",
    "    count=0\n",
    "    with open(filepath,'r') as f:\n",
    "        filepath='data files/data.txt'\n",
    "        filedata=f.read()\n",
    "        for i in filedata:\n",
    "            if i.isspace() !=True:\n",
    "                count=count+1\n",
    "        print(\"total number of characters:\",count)\n",
    "charactercount(filepath)"
   ]
  },
  {
   "cell_type": "code",
   "execution_count": 10,
   "metadata": {},
   "outputs": [
    {
     "name": "stdout",
     "output_type": "stream",
     "text": [
      "4\n"
     ]
    }
   ],
   "source": [
    "def wordcount(filepath):\n",
    "    with open(filepath,'r') as f:\n",
    "        s=f.read().split()\n",
    "        print(len(s))\n",
    "        \n",
    "filepath='data files/data.txt'\n",
    "wordcount(filepath)"
   ]
  },
  {
   "cell_type": "code",
   "execution_count": 2,
   "metadata": {},
   "outputs": [
    {
     "data": {
      "text/plain": [
       "['newdataline2', 'line3line4line5', 'line4', 'line5']"
      ]
     },
     "execution_count": 2,
     "metadata": {},
     "output_type": "execute_result"
    }
   ],
   "source": [
    "def readfileintolist(filepath):\n",
    "    with open(filepath,'r') as f:\n",
    "        filedata=f.read()\n",
    "        lines=filedata.split('\\n')\n",
    "    return lines\n",
    "\n",
    "filepath='data files/data.txt'\n",
    "readfileintolist(filepath)"
   ]
  },
  {
   "cell_type": "code",
   "execution_count": null,
   "metadata": {},
   "outputs": [],
   "source": []
  },
  {
   "cell_type": "code",
   "execution_count": 9,
   "metadata": {},
   "outputs": [
    {
     "data": {
      "text/plain": [
       "[1, 2, 3]"
      ]
     },
     "execution_count": 9,
     "metadata": {},
     "output_type": "execute_result"
    }
   ],
   "source": [
    "# function to get unique elements in a list\n",
    "\n",
    "#[1,2,3,3,2,1]->[1,2,3] \n",
    "# create a empty unique list[1,2,3]\n",
    "\n",
    "def uniquedata(li):\n",
    "    #create an empty unique list\n",
    "    unique=[]\n",
    "    \n",
    "    # for every element in the main list check if it exists in the unique list\n",
    "    #if it does not exists,add it to unique list\n",
    "    #else it already exists,then move on to the next element in the main list\n",
    "    for element in li:\n",
    "        if element not in unique:\n",
    "            unique.append(element)\n",
    "    return unique\n",
    "li=[1,2,3,3,2,1]\n",
    "uniquedata(li)\n",
    "        \n",
    "    "
   ]
  },
  {
   "cell_type": "code",
   "execution_count": 11,
   "metadata": {},
   "outputs": [
    {
     "name": "stdout",
     "output_type": "stream",
     "text": [
      "['newdataline2', 'line3line4line5', 'line4', 'line5']\n"
     ]
    }
   ],
   "source": [
    "def uniquewordcount(filepath):\n",
    "    with open(filepath,'r') as f:\n",
    "        s=f.read().split()\n",
    "        print(s)\n",
    "        #y=set(s)\n",
    "        #print(len(y))\n",
    "        return\n",
    "filepath='data files/data.txt'\n",
    "uniquewordcount(filepath)\n",
    "        \n",
    "    "
   ]
  },
  {
   "cell_type": "code",
   "execution_count": null,
   "metadata": {},
   "outputs": [],
   "source": [
    "# function to count the number of unique  words in a text file\n",
    "\n",
    "def countuniquewords(filepath):\n",
    "    "
   ]
  },
  {
   "cell_type": "code",
   "execution_count": null,
   "metadata": {},
   "outputs": [],
   "source": [
    "# function to print the frequency count of all words in a file\n",
    "#data in line1\n",
    "#data in line2\n",
    "#data in line3\n",
    "#o/p\n",
    "#data:3\n",
    "#in:3\n",
    "#line:3\n",
    "#1:1\n",
    "#2:1\n",
    "#3:1\n",
    "\n",
    "\n",
    "\n",
    "    "
   ]
  },
  {
   "cell_type": "code",
   "execution_count": null,
   "metadata": {},
   "outputs": [],
   "source": [
    "# contacts application\n",
    "#find and replace application"
   ]
  },
  {
   "cell_type": "code",
   "execution_count": 12,
   "metadata": {},
   "outputs": [
    {
     "name": "stdout",
     "output_type": "stream",
     "text": [
      "newdataline2 : 1\n",
      "line3line4line5 : 1\n",
      "line4 : 1\n",
      "line5 : 1\n"
     ]
    }
   ],
   "source": [
    "def uniquewordcount(filepath):\n",
    "    c=0\n",
    "    unique=[]\n",
    "    with open(filepath,'r') as f:\n",
    "        filedata=f.read().split()\n",
    "        for i in filedata:\n",
    "            k=i\n",
    "            if k not in unique:\n",
    "                unique.append(k)\n",
    "                for j in filedata:\n",
    "                    if k==j:\n",
    "                        c=c+1\n",
    "                print(k,':',c)\n",
    "                c=0\n",
    "    return\n",
    "uniquewordcount(filepath)"
   ]
  },
  {
   "cell_type": "code",
   "execution_count": 13,
   "metadata": {},
   "outputs": [
    {
     "name": "stdout",
     "output_type": "stream",
     "text": [
      "43 bytes\n"
     ]
    }
   ],
   "source": [
    "import os\n",
    "\n",
    "def filesize(f):\n",
    "    b=os.path.getsize(f)\n",
    "    if b<1000:\n",
    "        print(b,\"bytes\")\n",
    "    else:\n",
    "        a=b//1000\n",
    "        print(a,\"kb\")\n",
    "    return\n",
    "filesize(\"data files/data.txt\")"
   ]
  },
  {
   "cell_type": "code",
   "execution_count": null,
   "metadata": {},
   "outputs": [],
   "source": []
  },
  {
   "cell_type": "code",
   "execution_count": null,
   "metadata": {},
   "outputs": [],
   "source": []
  },
  {
   "cell_type": "code",
   "execution_count": null,
   "metadata": {},
   "outputs": [],
   "source": []
  },
  {
   "cell_type": "code",
   "execution_count": null,
   "metadata": {},
   "outputs": [],
   "source": []
  }
 ],
 "metadata": {
  "kernelspec": {
   "display_name": "Python 3",
   "language": "python",
   "name": "python3"
  },
  "language_info": {
   "codemirror_mode": {
    "name": "ipython",
    "version": 3
   },
   "file_extension": ".py",
   "mimetype": "text/x-python",
   "name": "python",
   "nbconvert_exporter": "python",
   "pygments_lexer": "ipython3",
   "version": "3.7.3"
  }
 },
 "nbformat": 4,
 "nbformat_minor": 2
}
