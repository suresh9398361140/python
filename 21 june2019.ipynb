{
 "cells": [
  {
   "cell_type": "code",
   "execution_count": 26,
   "metadata": {},
   "outputs": [
    {
     "name": "stdout",
     "output_type": "stream",
     "text": [
      "name1 already exists\n"
     ]
    }
   ],
   "source": [
    "# function to add contact to contacts text file\n",
    "\n",
    "\n",
    "from packages import validators\n",
    "def addcontact(name,phone,email):\n",
    "    # store date as name,phone,email in the contacts file\n",
    "    \n",
    "    filename='data files/contacts.txt'\n",
    "    if not checkcontactexists(name):\n",
    "        if phonenumbervalidator(phone) and emailvalidator(email):\n",
    "            with open(filename,'a') as f:\n",
    "                line=name +','+str(phone) +',' +email+ '\\n'\n",
    "                f.write(line)\n",
    "            print(name,'added to contacts')\n",
    "        else: \n",
    "            print(\"invalid phone number or email\")\n",
    "            return\n",
    "    else:\n",
    "        print(name,'already exists')\n",
    "    return\n",
    "addcontact('name1',9398361140,\"name1_23@gmail.com\")"
   ]
  },
  {
   "cell_type": "code",
   "execution_count": 25,
   "metadata": {},
   "outputs": [
    {
     "name": "stdout",
     "output_type": "stream",
     "text": [
      "False\n"
     ]
    }
   ],
   "source": [
    "import re\n",
    "#function to if contact already exists\n",
    "def checkcontactexists(name):\n",
    "    filename='data files/contacts.txt'\n",
    "    \n",
    "    with open(filename,'r') as f:\n",
    "        filedata=f.read()\n",
    "        pattern=name+','\n",
    "    return re.search(name,filedata)\n",
    "if checkcontactexists(\"name2\"):\n",
    "    print(True)\n",
    "else:\n",
    "    \n",
    "    print(False)"
   ]
  },
  {
   "cell_type": "code",
   "execution_count": 31,
   "metadata": {},
   "outputs": [
    {
     "data": {
      "text/plain": [
       "''"
      ]
     },
     "execution_count": 31,
     "metadata": {},
     "output_type": "execute_result"
    }
   ],
   "source": [
    "filename='data files/contacts.txt'\n",
    "def csvtolist(filename):\n",
    "    li=[]\n",
    "    with open(filename,'r') as f:\n",
    "        for line in f:\n",
    "            li.append(line.split(','))\n",
    "    return li\n",
    "def listtofile(li):\n",
    "    s=''\n",
    "    for i in li:\n",
    "        s.join(i)\n",
    "    return s\n",
    "li=csvtolist(filename)\n",
    "listtofile(li)\n",
    "\n",
    "            \n",
    "            \n",
    "#csvtolist(filename)\n",
    "            "
   ]
  },
  {
   "cell_type": "code",
   "execution_count": null,
   "metadata": {},
   "outputs": [],
   "source": []
  }
 ],
 "metadata": {
  "kernelspec": {
   "display_name": "Python 3",
   "language": "python",
   "name": "python3"
  },
  "language_info": {
   "codemirror_mode": {
    "name": "ipython",
    "version": 3
   },
   "file_extension": ".py",
   "mimetype": "text/x-python",
   "name": "python",
   "nbconvert_exporter": "python",
   "pygments_lexer": "ipython3",
   "version": "3.7.3"
  }
 },
 "nbformat": 4,
 "nbformat_minor": 2
}
