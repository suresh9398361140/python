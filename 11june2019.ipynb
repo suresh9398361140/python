{
 "cells": [
  {
   "cell_type": "markdown",
   "metadata": {},
   "source": [
    "## Notebook basics\n",
    "* **bold**<br>\n",
    "* *italic*<br>\n",
    "* ***bold/italic***<br>\n",
    "* normal text\n",
    "  * sublist 1\n",
    "  * sublist 2\n",
    "  \n",
    "  \n",
    "1. ordered list element 1\n",
    "2. ordered list element 2\n",
    "\n",
    "\n",
    "\n",
    ".(jupyter log).(jupyter log.jpg)\n",
    "\n",
    "\n",
    "\n",
    "\n"
   ]
  },
  {
   "cell_type": "code",
   "execution_count": null,
   "metadata": {},
   "outputs": [],
   "source": []
  },
  {
   "cell_type": "code",
   "execution_count": null,
   "metadata": {},
   "outputs": [],
   "source": []
  }
 ],
 "metadata": {
  "kernelspec": {
   "display_name": "Python 3",
   "language": "python",
   "name": "python3"
  },
  "language_info": {
   "codemirror_mode": {
    "name": "ipython",
    "version": 3
   },
   "file_extension": ".py",
   "mimetype": "text/x-python",
   "name": "python",
   "nbconvert_exporter": "python",
   "pygments_lexer": "ipython3",
   "version": "3.7.3"
  }
 },
 "nbformat": 4,
 "nbformat_minor": 2
}
