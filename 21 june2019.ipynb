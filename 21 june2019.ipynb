{
 "cells": [
  {
   "cell_type": "code",
   "execution_count": 26,
   "metadata": {},
   "outputs": [
    {
     "name": "stdout",
     "output_type": "stream",
     "text": [
      "name1 already exists\n"
     ]
    }
   ],
   "source": [
    "# function to add contact to contacts text file\n",
    "\n",
    "\n",
    "from packages import validators\n",
    "def addcontact(name,phone,email):\n",
    "    # store date as name,phone,email in the contacts file\n",
    "    \n",
    "    filename='data files/contacts.txt'\n",
    "    if not checkcontactexists(name):\n",
    "        if phonenumbervalidator(phone) and emailvalidator(email):\n",
    "            with open(filename,'a') as f:\n",
    "                line=name +','+str(phone) +',' +email+ '\\n'\n",
    "                f.write(line)\n",
    "            print(name,'added to contacts')\n",
    "        else: \n",
    "            print(\"invalid phone number or email\")\n",
    "            return\n",
    "    else:\n",
    "        print(name,'already exists')\n",
    "    return\n",
    "addcontact('name1',9398361140,\"name1_23@gmail.com\")"
   ]
  },
  {
   "cell_type": "code",
   "execution_count": 16,
   "metadata": {},
   "outputs": [
    {
     "name": "stdout",
     "output_type": "stream",
     "text": [
      "False\n"
     ]
    }
   ],
   "source": [
    "import re\n",
    "#function to if contact already exists\n",
    "def checkcontactexists(name):\n",
    "    filename='data files/contacts.txt'\n",
    "    \n",
    "    with open(filename,'r') as f:\n",
    "        filedata=f.read()\n",
    "        pattern=name+','\n",
    "    return re.search(name,filedata)\n",
    "if checkcontactexists(\"name2\"):\n",
    "    print(True)\n",
    "else:\n",
    "    \n",
    "    print(False)"
   ]
  },
  {
   "cell_type": "code",
   "execution_count": 3,
   "metadata": {},
   "outputs": [
    {
     "data": {
      "text/plain": [
       "''"
      ]
     },
     "execution_count": 3,
     "metadata": {},
     "output_type": "execute_result"
    }
   ],
   "source": [
    "filename='data files/contacts.txt'\n",
    "def csvtolist(filename):\n",
    "    li=[]\n",
    "    with open(filename,'r') as f:\n",
    "        for line in f:\n",
    "            li.append(line.split(','))\n",
    "    return li\n",
    "def listtofile(li):\n",
    "    s=''\n",
    "    for i in li:\n",
    "        s.join(i)\n",
    "    return s\n",
    "li=csvtolist(filename)\n",
    "listtofile(li)\n",
    "\n",
    "            \n",
    "            \n",
    "#csvtolist(filename)\n",
    "            "
   ]
  },
  {
   "cell_type": "code",
   "execution_count": 12,
   "metadata": {},
   "outputs": [],
   "source": [
    "def deltecontact(name1):\n",
    "    ls=contacts2list('data files/contacts.txt')\n",
    "    for i in range(0,len(ls)):\n",
    "        lss=ls[i]\n",
    "        for j in range(0,len(lss)):\n",
    "            if(name==lss[j]):\n",
    "                ls.pop(i)\n",
    "                print(name,\"deleted\")\n",
    "            else:\n",
    "                print(\"not deleted\")\n",
    "    s=list2contacts(ls)\n",
    "    save2file(s)\n",
    "    return s\n",
    "\n",
    "    "
   ]
  },
  {
   "cell_type": "code",
   "execution_count": 1,
   "metadata": {},
   "outputs": [],
   "source": [
    "def editcontact(name,number,email):\n",
    "    ls=contacts2list('datafiles/contacts.txt')\n",
    "    for i in range(0,len(ls)):\n",
    "        lss=ls[i]\n",
    "        for j in range(0,len(lss)):\n",
    "            if(name==lss[j]):\n",
    "                lss[0]=name\n",
    "                lss[1]=number\n",
    "                lss[2]=email\n",
    "                print(name,\"updated..\")\n",
    "            else:\n",
    "                print(\"not updated\")\n",
    "    s=list2contacts(ls)\n",
    "    save2file(s)\n",
    "    return s"
   ]
  },
  {
   "cell_type": "code",
   "execution_count": 4,
   "metadata": {},
   "outputs": [
    {
     "data": {
      "text/plain": [
       "-1"
      ]
     },
     "execution_count": 4,
     "metadata": {},
     "output_type": "execute_result"
    }
   ],
   "source": [
    "#update the contact application\n",
    "\n",
    "def searchwithreturn(filename,name):\n",
    "    f=csvtolist(filename)\n",
    "    flag=0\n",
    "    for i in range(len(f)):\n",
    "        if name==f[i][0]:\n",
    "            flag=1\n",
    "            return 1\n",
    "    if flag==False:\n",
    "        return -1\n",
    "searchwithreturn('data files/contacts.txt',\"sri\")\n",
    "\n",
    "\n",
    "    "
   ]
  },
  {
   "cell_type": "code",
   "execution_count": 18,
   "metadata": {},
   "outputs": [
    {
     "name": "stdout",
     "output_type": "stream",
     "text": [
      "['name1,phone1,email1name1,9398361140,name1_23@gmail.com', '']\n"
     ]
    }
   ],
   "source": [
    "# search contacts\n",
    "def searchcontact(name):\n",
    "    filepath='data files/contacts.txt'\n",
    "    if checkcontactexists(name):\n",
    "        with open(filepath,'r') as f:\n",
    "            fd=f.read()\n",
    "            \n",
    "            p='[\\n]'\n",
    "            lis=re.split(p,fd)\n",
    "            \n",
    "            print(lis)\n",
    "            con=[]\n",
    "            for i in range(len(lis)):\n",
    "                con=lis[i].split(',')\n",
    "                if name in con:\n",
    "                    return con\n",
    "                        \n",
    "                         \n",
    "    else:\n",
    "        print(\"contact not exists\")\n",
    "        return\n",
    "    \n",
    "                            \n",
    "                               \n",
    "searchcontact('name')"
   ]
  },
  {
   "cell_type": "code",
   "execution_count": null,
   "metadata": {},
   "outputs": [],
   "source": [
    "def listcontacts():\n",
    "    filepath='data files/contacts.txt'\n",
    "    with open(filepath,'r') as f:\n",
    "        x=f.read().split()\n",
    "        if len(x)!=0:\n",
    "            for i in range(len(x)):\n",
    "                print(x[i])\n",
    "        else:\n",
    "            print('')"
   ]
  },
  {
   "cell_type": "code",
   "execution_count": null,
   "metadata": {},
   "outputs": [],
   "source": []
  }
 ],
 "metadata": {
  "kernelspec": {
   "display_name": "Python 3",
   "language": "python",
   "name": "python3"
  },
  "language_info": {
   "codemirror_mode": {
    "name": "ipython",
    "version": 3
   },
   "file_extension": ".py",
   "mimetype": "text/x-python",
   "name": "python",
   "nbconvert_exporter": "python",
   "pygments_lexer": "ipython3",
   "version": "3.7.3"
  }
 },
 "nbformat": 4,
 "nbformat_minor": 2
}
