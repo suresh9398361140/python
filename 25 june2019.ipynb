{
 "cells": [
  {
   "cell_type": "code",
   "execution_count": 8,
   "metadata": {},
   "outputs": [
    {
     "name": "stdout",
     "output_type": "stream",
     "text": [
      "0 4111110 0 0 "
     ]
    }
   ],
   "source": [
    "# digit frequency\n",
    "\n",
    "# s=123abc456def\n",
    "#0 1 1 1 1 1 1 0 0 0->frequency of sorted numbers\n",
    "# s= c\n",
    "# 0 0 0 0 0 0 0 0 0 \n",
    "# s=123456789\n",
    "# 1 1 1 1 1 1 1 1 1\n",
    "\n",
    "def uniquedata(allnumbers):\n",
    "    unique=[]\n",
    "    for n in allnumbers:\n",
    "        if n not in unique:\n",
    "            unique.append(n)\n",
    "    return unique\n",
    "def digitfrequency1(s):\n",
    "    allnumbers=[]\n",
    "    for i in s:\n",
    "        if i.isdigit():\n",
    "            allnumbers.append(i)\n",
    "    unique=uniquedata(allnumbers)\n",
    "    for i in range(0,10):\n",
    "        if str(i) not in unique:\n",
    "            print(0,end=' ')\n",
    "        else:\n",
    "            count=allnumbers.count(str(i))\n",
    "            print(count,end='')     \n",
    "            \n",
    "            \n",
    "digitfrequency1('213abc456def111')\n",
    "        \n",
    "        \n",
    "        \n"
   ]
  },
  {
   "cell_type": "markdown",
   "metadata": {},
   "source": [
    "### find and replace application\n",
    "- check if a word is existing in a file\n",
    "    -wordexists(filepath,word)\n",
    "- count the total number of occurances of a word in a file\n",
    "\n",
    "    - countwordoccurances(filepath,word)\n",
    "- replace all occurances of a word in afile\n",
    "- replaceword(filepath,word)\n",
    "\n",
    "### marks analysis report\n",
    "- generate marks\n",
    "    - generatemarks(n,lb,ub)\n",
    "- generate a report of the following \n",
    "    -class avearage\n",
    "    - %passed-passpercentage(filepath)\n",
    "    - %failed-failpercentage(filepath)\n",
    "    - %distinction-distinctionpercentage(filepath)\n",
    "    - frequency of highest marks-frequencyhighest(filepath)\n",
    "    - frequency of lowest mark-frequencylowest(filepath)\n",
    "    - generatereport(filepath):\n",
    "### contacts application\n",
    "- addcontact(name,phone,email)\n",
    "- searchcontact(name) \n",
    "- listcontacts()\n",
    "- editcontact(name,newphone,newemail)\n",
    "- deletecontact(name)\n",
    "- contactapp()"
   ]
  },
  {
   "cell_type": "code",
   "execution_count": 14,
   "metadata": {},
   "outputs": [
    {
     "data": {
      "text/plain": [
       "49.943"
      ]
     },
     "execution_count": 14,
     "metadata": {},
     "output_type": "execute_result"
    }
   ],
   "source": [
    "def generateclassaverage():\n",
    "    with open('data files/marks.txt','r') as f:\n",
    "        \n",
    "        fh=f.read()\n",
    "        sum1=0\n",
    "        count=0\n",
    "        \n",
    "        for i in fh.split():\n",
    "            sum1=sum1+int(i)\n",
    "            count=count+1\n",
    "        return sum1/count\n",
    "generateclassaverage()"
   ]
  },
  {
   "cell_type": "code",
   "execution_count": 18,
   "metadata": {},
   "outputs": [
    {
     "name": "stdout",
     "output_type": "stream",
     "text": [
      "66.4\n"
     ]
    }
   ],
   "source": [
    "# %passed -passpercentage(filepath)\n",
    "# (passedcount/total student count)*100\n",
    "def passpercentage(filepath):\n",
    "    count=0\n",
    "    mc=0\n",
    "    with open(filepath,'r') as f:\n",
    "        for i in f:\n",
    "            mc=mc+1\n",
    "            if(int(i)>=35):\n",
    "                \n",
    "                count=count+1\n",
    "                \n",
    "        print((count/mc)*100)\n",
    "passpercentage('data files/marks.txt')\n",
    "        \n",
    "        "
   ]
  },
  {
   "cell_type": "code",
   "execution_count": 22,
   "metadata": {},
   "outputs": [
    {
     "name": "stdout",
     "output_type": "stream",
     "text": [
      "33.6\n"
     ]
    }
   ],
   "source": [
    "# % of failed\n",
    "def failpercentage(filepath):\n",
    "    count=0\n",
    "    mc=0\n",
    "    with open(filepath,'r') as f:\n",
    "        for i in f:\n",
    "            mc=mc+1\n",
    "            if(int(i)<35):\n",
    "                \n",
    "                count=count+1\n",
    "                \n",
    "        print((count/mc)*100)\n",
    "failpercentage('data files/marks.txt')\n",
    "        \n",
    "        "
   ]
  },
  {
   "cell_type": "code",
   "execution_count": 21,
   "metadata": {},
   "outputs": [
    {
     "data": {
      "text/plain": [
       "0.0"
      ]
     },
     "execution_count": 21,
     "metadata": {},
     "output_type": "execute_result"
    }
   ],
   "source": [
    "#% failed -failedpercentage(filepath)\n",
    "#(failed count/total student count)*100\n",
    "def distinctionpercentage(filepath):\n",
    "    count=0\n",
    "    mc=0\n",
    "    with open(filepath,'r') as f:\n",
    "        for i in f:\n",
    "            mc=mc+1\n",
    "            if(int(i)>=75):\n",
    "                count=count+1\n",
    "            return((count/mc)*100)\n",
    "    \n",
    "    \n",
    "distinctionpercentage('data files/marks.txt')"
   ]
  },
  {
   "cell_type": "code",
   "execution_count": 28,
   "metadata": {},
   "outputs": [
    {
     "name": "stdout",
     "output_type": "stream",
     "text": [
      "99\n",
      "7\n"
     ]
    }
   ],
   "source": [
    "# frequency of highest mark-frequencyhighest(filepath)\n",
    "def frequencyhighest(filepath):\n",
    "    with open(filepath,'r') as f:\n",
    "        sp=f.read().split()\n",
    "        sp=list(map(str,sp))\n",
    "        print(max(sp))\n",
    "        print(sp.count(max(sp)))\n",
    "frequencyhighest('data files/marks.txt')"
   ]
  },
  {
   "cell_type": "code",
   "execution_count": 27,
   "metadata": {},
   "outputs": [
    {
     "name": "stdout",
     "output_type": "stream",
     "text": [
      "0\n",
      "9\n"
     ]
    }
   ],
   "source": [
    "def frequencylowest(filepath):\n",
    "    with open(filepath,'r') as f:\n",
    "        sp=f.read().split()\n",
    "        sp=list(map(str,sp))\n",
    "        print(min(sp))\n",
    "        print(sp.count(min(sp)))\n",
    "        \n",
    "frequencylowest('data files/marks.txt')"
   ]
  },
  {
   "cell_type": "code",
   "execution_count": null,
   "metadata": {},
   "outputs": [],
   "source": [
    "def marksAnalysis(filepath):\n",
    "    while True:\n",
    "        n=int(input(\"Choose option :\\n1).Generation Marks\\n2).Class Average\\n3).passed Percentage\\n4).Failed Percentage\\n5).Dictintion percentage\\n6).Frequency of highest\\n7).Frequency of lowest\\n\"))\n",
    "        if(n==1):\n",
    "            st=int(input(\"Enter No of Students marks\"))\n",
    "            generatemarks(st,1,100)\n",
    "        elif(n==2):\n",
    "            print(classAverage(filepath))\n",
    "        elif(n==3):\n",
    "            print(passpercentage(filepath))\n",
    "        elif(n==4):\n",
    "            print(failedpercentage(filepath))\n",
    "        elif(n==5):\n",
    "            print(Distinction(filepath))\n",
    "        elif(n==6):\n",
    "            print(frequencyHighest(filepath))\n",
    "        elif(n==7):\n",
    "            print(frequencylowest(filepath))\n",
    "        else:\n",
    "            break\n",
    "marksAnalysis('Data/marks.txt')"
   ]
  },
  {
   "cell_type": "code",
   "execution_count": 2,
   "metadata": {},
   "outputs": [
    {
     "data": {
      "text/plain": [
       "True"
      ]
     },
     "execution_count": 2,
     "metadata": {},
     "output_type": "execute_result"
    }
   ],
   "source": [
    "# function to check if two strings is halogram or not\n",
    "# abc cba -> true\n",
    "#abc abc\n",
    "def checkanagrams(s1,s2):\n",
    "    if len(s1)!=len(s2):\n",
    "        return False\n",
    "    if sorted(s1)==sorted(s2):\n",
    "        return True\n",
    "    return False\n",
    "checkanagrams('abc','bca')\n",
    "    \n",
    "    "
   ]
  },
  {
   "cell_type": "code",
   "execution_count": null,
   "metadata": {},
   "outputs": [],
   "source": [
    "def chardeletionsanagrams(s1,s2):\n",
    "    uncommon = []\n",
    "    for i in s1:\n",
    "        if i not in s2:\n",
    "            uncommon.append(i)\n",
    "    for i in s2:\n",
    "        if i not in s1:\n",
    "            uncommon.append(i)\n",
    "    count=len(uncommon)\n",
    "    \n",
    "    for i in s1:\n",
    "        if i  not in uncommon:"
   ]
  },
  {
   "cell_type": "code",
   "execution_count": 7,
   "metadata": {},
   "outputs": [
    {
     "data": {
      "text/plain": [
       "62228"
      ]
     },
     "execution_count": 7,
     "metadata": {},
     "output_type": "execute_result"
    }
   ],
   "source": [
    "def averagerange(lb,ub):\n",
    "    sum=0\n",
    "    for i in range(lb,ub+1):\n",
    "        \n",
    "        sum+=i\n",
    "    count=ub-lb+1\n",
    "    return sum//count\n",
    "averagerange(1000,123456)"
   ]
  },
  {
   "cell_type": "code",
   "execution_count": null,
   "metadata": {},
   "outputs": [],
   "source": [
    "def klargestfrequency(s,k):\n",
    "    # construct the ferquency dictionary\n",
    "    unique=[]\n",
    "    freq={}\n",
    "    for i in s:\n",
    "        if i not in freq.keys():\n",
    "            freq[i]=s.count(i)\n",
    "    values=sorted(freq.values(),reversed)\n",
    "    uniquevalues=list(set(values))\n",
    "    uniquevalues=sorted(uniquevalues,reversed=True)\n",
    "    \n",
    "    "
   ]
  },
  {
   "cell_type": "code",
   "execution_count": null,
   "metadata": {},
   "outputs": [],
   "source": []
  },
  {
   "cell_type": "code",
   "execution_count": null,
   "metadata": {},
   "outputs": [],
   "source": []
  }
 ],
 "metadata": {
  "kernelspec": {
   "display_name": "Python 3",
   "language": "python",
   "name": "python3"
  },
  "language_info": {
   "codemirror_mode": {
    "name": "ipython",
    "version": 3
   },
   "file_extension": ".py",
   "mimetype": "text/x-python",
   "name": "python",
   "nbconvert_exporter": "python",
   "pygments_lexer": "ipython3",
   "version": "3.7.3"
  }
 },
 "nbformat": 4,
 "nbformat_minor": 2
}
