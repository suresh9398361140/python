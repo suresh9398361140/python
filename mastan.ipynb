{
 "cells": [
  {
   "cell_type": "markdown",
   "metadata": {},
   "source": [
    "### Day Objectives\n",
    "    - Regular Expressions\n",
    "        - Constructing Regular Expressions for Various use cases\n",
    "        - Regular Expressions Module and related in python\n",
    "    - Improving the Contacts Application with name and phone number validation\n",
    "    - File Handling\n",
    "        - Text Files\n",
    "        - Upgrading the Contacts Application to store contact information in a text file"
   ]
  },
  {
   "cell_type": "markdown",
   "metadata": {},
   "source": [
    "### Regular Expressions\n",
    "- Pattern Matching\n",
    "- Symbolic Notation of a pattern \n",
    "    - Pattern : Format which repeates \n",
    "    - Pattern(RE) - The set of all strings natches that pattern\n",
    "- [0-9] -> Any Digit\n",
    "- [a-z] -> Any lower case alphabet\n",
    "- [2468]-> All single multiples of 2\n",
    "\n",
    "- ^[0-9]{1}$ -> only single digit numbers hilighting\n",
    "- ^[0-9]{3}$ -> only 3 digit numbers hilighting\n",
    "- ^[0-9]{4}$ -> only 4 digit numbers hilighting\n",
    "- [0-9]*0$ -> All multiples of 10\n",
    "\n",
    "\n",
    "- Task\n",
    "============\n",
    "- `^([1-9][0-9]*[05])|([5])$` -> All multiples of 5\n",
    "- `^[0-9]{10}$` ->All 10 digit numbers\n",
    "- [w][o][r][d] or (word) -> Searching for a word \n",
    "- `^[6-9][0-9]{9}$|^[0][6-9][0-9]{9}|^[+][9][1][6-9][0-9]{9}$` validating phone number(India)(start with 9876\n",
    "- Email Validation (username@domain.com)\n",
    "    - Username(`^[0-9a-z][0-9a-z_.]{4,13}[0-9][a-z]$`)\n",
    "        - Length of username : [6,15]\n",
    "        - No Special Characters other than _ . \n",
    "        - Should not begin and end with _ .\n",
    "        - Character set : All digits and lower case alphabet _ .\n",
    "    - domain\n",
    "        - Length of domain : [3,18]\n",
    "        - No Special characters\n",
    "        - Character set : All digits and lower case alphabet\n",
    "    - extension\n",
    "        - Length of extension:  [2,4]\n",
    "        - No Special characters\n",
    "        - Character set : lower case alphabet\n",
    " `^[a-zA-z0-9._]+@[A-Za-z].+[a-z]$`\n",
    " \n",
    " \n",
    "--> ^[a]...[z]$ ANy string of length 5 that starts with 'a' and ends with\n"
   ]
  },
  {
   "cell_type": "code",
   "execution_count": null,
   "metadata": {},
   "outputs": [],
   "source": []
  },
  {
   "cell_type": "code",
   "execution_count": 9,
   "metadata": {},
   "outputs": [
    {
     "data": {
      "text/plain": [
       "True"
      ]
     },
     "execution_count": 9,
     "metadata": {},
     "output_type": "execute_result"
    }
   ],
   "source": [
    "# Function to validate a phone number in python\n",
    "import re \n",
    "def phoneNumberValidator(number):\n",
    "    pattern = '^[6-9][0-9]{9}$|^[0][6-9][0-9]{9}|^[+][9][1][6-9][0-9]{9}$'\n",
    "    if re.match(pattern,str(number)):\n",
    "        return True\n",
    "    return False\n",
    "phoneNumberValidator(8500782761)\n",
    "    "
   ]
  },
  {
   "cell_type": "code",
   "execution_count": 29,
   "metadata": {},
   "outputs": [
    {
     "data": {
      "text/plain": [
       "9989794454"
      ]
     },
     "execution_count": 29,
     "metadata": {},
     "output_type": "execute_result"
    }
   ],
   "source": [
    "contacts = {}\n",
    "def addContact(phone,email):\n",
    "    # Verify that contact doesnot already exist \n",
    "    li=[]\n",
    "    li.append(phone)\n",
    "    li.append(email)\n",
    "    return li\n",
    "    \n",
    "#     if name not in contacts and phoneNumberValidator(phone):\n",
    "#         contacts[name] = li\n",
    "#         print(\"contact %s added\" % name)\n",
    "#     if name in contacts:\n",
    "#         print(\"Contact %s already exists\" % name)\n",
    "#     elif not phoneNumberValidator(phone):\n",
    "#         print(\"Phone number is inValid\")\n",
    "# addContact(\"vali\",\"9502304797\")\n",
    "li=addContact(9989794454,\"mastan@gmail.com\")\n",
    "li[0]\n"
   ]
  },
  {
   "cell_type": "code",
   "execution_count": 32,
   "metadata": {},
   "outputs": [
    {
     "name": "stdout",
     "output_type": "stream",
     "text": [
      "contact aaaa added\n",
      "Contact aaaa already exists\n"
     ]
    }
   ],
   "source": [
    "def addDetails(name,li):\n",
    "    if name not in contacts and phoneNumberValidator(li[0]):\n",
    "        contacts[name] = li\n",
    "        print(\"contact %s added\" % name)\n",
    "    elif not phoneNumberValidator(phone):\n",
    "        print(\"Phone number is inValid\")\n",
    "li=addContact(9989794454,\"mastan@gmail.com\")\n",
    "addDetails(\"aaaa\",li)"
   ]
  },
  {
   "cell_type": "code",
   "execution_count": 33,
   "metadata": {},
   "outputs": [
    {
     "data": {
      "text/plain": [
       "{'name1': [9989794454, 'mastan@gmail.com'],\n",
       " 'name3': [9989794454, 'mastan@gmail.com'],\n",
       " 'aaaa': [9989794454, 'mastan@gmail.com']}"
      ]
     },
     "execution_count": 33,
     "metadata": {},
     "output_type": "execute_result"
    }
   ],
   "source": [
    "contacts"
   ]
  },
  {
   "cell_type": "code",
   "execution_count": 35,
   "metadata": {},
   "outputs": [
    {
     "name": "stdout",
     "output_type": "stream",
     "text": [
      "name1\n",
      "Phone : 9989794454\n",
      "Email : mastan@gmail.com\n"
     ]
    }
   ],
   "source": [
    "def searchContacts(name):\n",
    "    if name in contacts:\n",
    "        print(name)\n",
    "        print(\"Phone :\",contacts[name][0])\n",
    "        print(\"Email :\",contacts[name][1])\n",
    "    else:\n",
    "        print(\"%s does not exist \" % name)\n",
    "    return\n",
    "searchContacts(\"name1\")"
   ]
  },
  {
   "cell_type": "code",
   "execution_count": null,
   "metadata": {},
   "outputs": [],
   "source": [
    "def updateContact(name,phone):\n",
    "    if name in contacts:\n",
    "        contacts[name] = phone\n",
    "    else:\n",
    "        print(\"%s does not exist \" % name)\n",
    "updateContact(\"mastan\",\"9502304797\")"
   ]
  },
  {
   "cell_type": "code",
   "execution_count": 36,
   "metadata": {},
   "outputs": [
    {
     "name": "stdout",
     "output_type": "stream",
     "text": [
      "1  added successfully\n"
     ]
    }
   ],
   "source": [
    "def importContacts(newContacts):\n",
    "    contacts.update(newContacts)\n",
    "    print(len(newContacts.keys()),\" added successfully\")\n",
    "    return\n",
    "newContacts = {\"name4\":[9969445464,\"name4@gmail.com\"]}\n",
    "importContacts(newContacts)"
   ]
  },
  {
   "cell_type": "code",
   "execution_count": 37,
   "metadata": {},
   "outputs": [
    {
     "data": {
      "text/plain": [
       "{'name1': [9989794454, 'mastan@gmail.com'],\n",
       " 'name3': [9989794454, 'mastan@gmail.com'],\n",
       " 'aaaa': [9989794454, 'mastan@gmail.com'],\n",
       " 'name4': [9969445464, 'name4@gmail.com']}"
      ]
     },
     "execution_count": 37,
     "metadata": {},
     "output_type": "execute_result"
    }
   ],
   "source": [
    "contacts"
   ]
  },
  {
   "cell_type": "code",
   "execution_count": 39,
   "metadata": {},
   "outputs": [
    {
     "name": "stdout",
     "output_type": "stream",
     "text": [
      "name1 \n",
      " phone:  9989794454 \n",
      " Email:  mastan@gmail.com\n",
      "name3 \n",
      " phone:  9989794454 \n",
      " Email:  mastan@gmail.com\n",
      "aaaa \n",
      " phone:  9989794454 \n",
      " Email:  mastan@gmail.com\n",
      "name4 \n",
      " phone:  9969445464 \n",
      " Email:  name4@gmail.com\n"
     ]
    }
   ],
   "source": [
    "# Function to list all contacts\n",
    "def listAllContacts():\n",
    "    for contact,info in contacts.items():\n",
    "        print(contact,\"\\n\",\"phone: \",info[0],\"\\n\",\"Email: \",info[1])\n",
    "listAllContacts()\n",
    "        \n",
    "    "
   ]
  },
  {
   "cell_type": "code",
   "execution_count": 38,
   "metadata": {},
   "outputs": [
    {
     "data": {
      "text/plain": [
       "dict_items([('name1', [9989794454, 'mastan@gmail.com']), ('name3', [9989794454, 'mastan@gmail.com']), ('aaaa', [9989794454, 'mastan@gmail.com']), ('name4', [9969445464, 'name4@gmail.com'])])"
      ]
     },
     "execution_count": 38,
     "metadata": {},
     "output_type": "execute_result"
    }
   ],
   "source": [
    "contacts.items()"
   ]
  },
  {
   "cell_type": "code",
   "execution_count": null,
   "metadata": {},
   "outputs": [],
   "source": [
    "# Function to edit Contact info\n",
    "def editContact(name,phone,email):\n",
    "    if name in contacts:\n",
    "        "
   ]
  },
  {
   "cell_type": "code",
   "execution_count": null,
   "metadata": {},
   "outputs": [],
   "source": []
  },
  {
   "cell_type": "markdown",
   "metadata": {},
   "source": [
    "### File Handling in python\n",
    "File - Document containing information residing on the permnent storage\n",
    "Types - Text, PDF, CSV etc\n",
    "File IO - Channelling I/O Data to files\n",
    "Default I/O Channels \n",
    "\n"
   ]
  },
  {
   "cell_type": "code",
   "execution_count": 40,
   "metadata": {},
   "outputs": [
    {
     "name": "stdout",
     "output_type": "stream",
     "text": [
      "text\n"
     ]
    },
    {
     "data": {
      "text/plain": [
       "'text'"
      ]
     },
     "execution_count": 40,
     "metadata": {},
     "output_type": "execute_result"
    }
   ],
   "source": [
    "s=input()\n",
    "s"
   ]
  },
  {
   "cell_type": "code",
   "execution_count": null,
   "metadata": {},
   "outputs": [],
   "source": []
  },
  {
   "cell_type": "code",
   "execution_count": null,
   "metadata": {},
   "outputs": [],
   "source": []
  },
  {
   "cell_type": "code",
   "execution_count": null,
   "metadata": {},
   "outputs": [],
   "source": []
  }
 ],
 "metadata": {
  "kernelspec": {
   "display_name": "Python 3",
   "language": "python",
   "name": "python3"
  },
  "language_info": {
   "codemirror_mode": {
    "name": "ipython",
    "version": 3
   },
   "file_extension": ".py",
   "mimetype": "text/x-python",
   "name": "python",
   "nbconvert_exporter": "python",
   "pygments_lexer": "ipython3",
   "version": "3.7.3"
  }
 },
 "nbformat": 4,
 "nbformat_minor": 2
}
