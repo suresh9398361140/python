{
 "cells": [
  {
   "cell_type": "code",
   "execution_count": null,
   "metadata": {},
   "outputs": [],
   "source": [
    "\n",
    "n=input().split()\n",
    "n[0],n[1]=int(n[0]),int(n[1])\n",
    "a=input().split()\n",
    "sum=[]\n",
    "#cumulative sum\n",
    "for i in range(0,n[0]):\n",
    "    if i==0:\n",
    "        sum.append[int(a[i])\n",
    "    else:\n",
    "        sum.append(int[sumi-1])+int(a[i])\n",
    "q=[]\n",
    "#read each query and calculate the average\n",
    "for k in range(0,n[1]):\n",
    "    inq=input().split()\n",
    "     \n",
    "        \n",
    "# sum[i]=sum[i-1] #first element\n",
    "# sum[1]= #first + second element\n",
    "# sum[2]= #sum[1] +third\n",
    "# i j -> sum[j]-sum[i-1]//j-i+1"
   ]
  },
  {
   "cell_type": "code",
   "execution_count": null,
   "metadata": {},
   "outputs": [],
   "source": [
    "#function to check if a number is prime\n",
    "\n",
    "def isspecialnumber(n,p):\n",
    "    if numberofprimefactors(n)>=p:\n",
    "        return True\n",
    "    return False\n",
    "\n",
    "\n",
    "\n",
    "\n",
    "def isprime(n):\n",
    "    flag=1\n",
    "    if n==2:\n",
    "        return True\n",
    "    for i in range(2,n//2+1):\n",
    "        if n%i==0:\n",
    "            flag=0\n",
    "            return False\n",
    "        if flag==1:\n",
    "            return True\n",
    "# function to determine number of prime factors\n",
    "def numberofprimefactors(n):\n",
    "    if isprime(n):\n",
    "        return 1\n",
    "    count=0\n",
    "    for i in range(2,n//2+1):\n",
    "        if isprime(i) and n%i==0:\n",
    "            count+=1\n",
    "    return count\n",
    "def solution2():\n",
    "    \n",
    "isspecialnumber(6,2)\n",
    "        \n"
   ]
  },
  {
   "cell_type": "code",
   "execution_count": null,
   "metadata": {},
   "outputs": [],
   "source": [
    "### problem highest remainder\n",
    "write a program to find a natural number that is smaller than n and get highest reminder when divided by that number\n",
    "if there is more than one such number,print the smallest number\n",
    "\n",
    "n\n",
    "highest=0\n",
    "x<n and n%x==highest\n",
    "\n",
    "10\n",
    "9 1\n",
    "8 2\n",
    "7 3\n",
    "6 4\n",
    "5 0\n",
    "4 2\n",
    "3 1\n",
    "2 0\n"
   ]
  },
  {
   "cell_type": "code",
   "execution_count": null,
   "metadata": {},
   "outputs": [],
   "source": [
    "def highestreminder(n):\n",
    "    hr=0\n",
    "    v=n\n",
    "    for i in range(n-1,n//2,:\n",
    "        r=n%i\n",
    "        if r>hr:\n",
    "            v=i\n",
    "        print(v)\n",
    "        return"
   ]
  },
  {
   "cell_type": "markdown",
   "metadata": {},
   "source": [
    "### tuples\n",
    "t1=()\n",
    "li=[]\n",
    "\n",
    "\n",
    "\n",
    "* difference between lists and tuples\n",
    "* lists are mutable-can be changed/modified\n",
    "* lists are used to modify,add,delete data\n",
    "* tuples are immutable-cannot be changed once initialised\n",
    "* used to access data only\n",
    "* all slicing operations work\n"
   ]
  },
  {
   "cell_type": "code",
   "execution_count": null,
   "metadata": {},
   "outputs": [],
   "source": [
    "t1=(1,2,3,8,6,0)\n",
    "t1[3] #accessing 4th element\n",
    "## accessing all elements from middle element to last\n",
    "t1[len(t1)//2:]\n"
   ]
  },
  {
   "cell_type": "code",
   "execution_count": null,
   "metadata": {},
   "outputs": [],
   "source": [
    "type(t1)"
   ]
  },
  {
   "cell_type": "markdown",
   "metadata": {},
   "source": [
    "### dictionaries \n",
    "* it works on the concept of a set\n",
    "* unique data\n",
    "\n",
    "\n",
    "* keys,values\n",
    "* key is the unique identifier for a value\n",
    "* value is data that can be accessed with a key\n",
    " "
   ]
  },
  {
   "cell_type": "code",
   "execution_count": null,
   "metadata": {},
   "outputs": [],
   "source": [
    "d1={\"k1\":\"value1\",\"k2\":\"value2\"}\n",
    "d1[\"k2\"] #accessing the value with key\"k2\"\n",
    "d1.keys()# returns list of all keys\n",
    "d1.values()# returns list of all values\n",
    "d1.items()# returns list of tuples of keys and values\n",
    "d1[\"k3\"]=\"value3\"# adding an element to the dictionary\n",
    "d1[\"k3\"]=\"value4\"# updating an element\n",
    "d1.pop(\"k3\")# removing an element\n",
    "\"k1\" in d1 #search for a particular item in a dictionary\n",
    "\n",
    "\n",
    "\n",
    "\n"
   ]
  },
  {
   "cell_type": "markdown",
   "metadata": {},
   "source": [
    "# contacts application\n",
    "*  add contacts\n",
    "*  search for contact\n",
    "*  list all contacts\n",
    "*  modify contact\n",
    "*  remove contact\n"
   ]
  },
  {
   "cell_type": "code",
   "execution_count": null,
   "metadata": {},
   "outputs": [],
   "source": [
    "contacts={}\n",
    "def addcontact(name,phone):\n",
    "    #verify that the contact doesnot already exists\n",
    "    if name not in contacts:\n",
    "        contacts[name]=phone\n",
    "    else:\n",
    "        print(\"contact %s already exists\" %name)\n",
    "    return\n",
    "addcontact(\"name1\",\"123456789\")"
   ]
  },
  {
   "cell_type": "code",
   "execution_count": null,
   "metadata": {},
   "outputs": [],
   "source": [
    "addcontact(\"name1\",\"123456789\")"
   ]
  },
  {
   "cell_type": "code",
   "execution_count": null,
   "metadata": {},
   "outputs": [],
   "source": [
    "def searchcontacts(name):\n",
    "    if name in contacts:\n",
    "        print(name,\":\",contacts[name])\n",
    "    else:\n",
    "        print(\"%s does not exists\"%name)\n",
    "    return\n",
    "searchcontacts(\"name10\")"
   ]
  },
  {
   "cell_type": "code",
   "execution_count": null,
   "metadata": {},
   "outputs": [],
   "source": [
    "# new contacts is given as a dictionary\n",
    "# merge new  contacts with existing contacts\n",
    "\n",
    "def importcontacts(newcontacts):\n",
    "    contacts.update(newcontacts)\n",
    "    print(len(newcontacts.keys()),\"contacts added successfully\")\n",
    "    return\n",
    "newcontacts={\"name2\":9398361140,\"name3\":9014760830}\n",
    "importcontacts(newcontacts)\n",
    "    "
   ]
  },
  {
   "cell_type": "code",
   "execution_count": null,
   "metadata": {},
   "outputs": [],
   "source": [
    "# updating the contact\n",
    "def updatecontact(name,phone):\n",
    "    if name in contacts:\n",
    "        contacts[name]=phone\n",
    "    else:\n",
    "        print(\"%s does not exists\"%name)\n",
    "updatecontact(\"name1\",9052431669)\n",
    "contacts"
   ]
  },
  {
   "cell_type": "code",
   "execution_count": null,
   "metadata": {},
   "outputs": [],
   "source": [
    "#delete the contact\n",
    "def removecontact(name,phone):\n",
    "    if name in contacts:\n",
    "        contacts.pop(name)\n",
    "    else:\n",
    "        print(\"%s does not exist\"%name)\n",
    "removecontact(\"name1\", 905243166)"
   ]
  },
  {
   "cell_type": "markdown",
   "metadata": {},
   "source": [
    "## packages and modules\n",
    "* packages->collection of modules(python file ,.py)\n",
    "  * package can contain collection of sub pages\n",
    "* module->a single python file containing functions\n",
    "* package->subpackages->modules->functions"
   ]
  },
  {
   "cell_type": "code",
   "execution_count": null,
   "metadata": {},
   "outputs": [],
   "source": [
    "from math import floor as fl\n",
    "\n",
    "fl(123.9)\n"
   ]
  },
  {
   "cell_type": "code",
   "execution_count": null,
   "metadata": {},
   "outputs": [],
   "source": [
    "import random\n",
    "def generateNrandomnumbers(n,lb,ub):\n",
    "    for i in range(0,n):\n",
    "        \n",
    "\n",
    "        print(random.randint(lb,ub),end=\" \")\n",
    "generateNrandomnumbers(10,0,100)\n",
    "        \n",
    "        \n",
    "    \n",
    "    "
   ]
  },
  {
   "cell_type": "code",
   "execution_count": 1,
   "metadata": {
    "scrolled": true
   },
   "outputs": [
    {
     "data": {
      "text/plain": [
       "False"
      ]
     },
     "execution_count": 1,
     "metadata": {},
     "output_type": "execute_result"
    }
   ],
   "source": [
    "from packages import numerical\n",
    "\n",
    "numerical.isprime(20)"
   ]
  },
  {
   "cell_type": "code",
   "execution_count": null,
   "metadata": {},
   "outputs": [],
   "source": []
  },
  {
   "cell_type": "code",
   "execution_count": null,
   "metadata": {},
   "outputs": [],
   "source": []
  }
 ],
 "metadata": {
  "kernelspec": {
   "display_name": "Python 3",
   "language": "python",
   "name": "python3"
  },
  "language_info": {
   "codemirror_mode": {
    "name": "ipython",
    "version": 3
   },
   "file_extension": ".py",
   "mimetype": "text/x-python",
   "name": "python",
   "nbconvert_exporter": "python",
   "pygments_lexer": "ipython3",
   "version": "3.7.3"
  }
 },
 "nbformat": 4,
 "nbformat_minor": 2
}
